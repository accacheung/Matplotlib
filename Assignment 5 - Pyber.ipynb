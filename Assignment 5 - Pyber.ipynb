{
 "cells": [
  {
   "cell_type": "code",
   "execution_count": 1,
   "metadata": {},
   "outputs": [],
   "source": [
    "# Pyber\n",
    "\n",
    "#  1) From our bubble plot, we can see the analysis matches our expecations. There are obviously more drivers and rides in urban areas, with lower average fares as travels within urban areas are expected to be shorter in distance. While in rural areas, data are mostly the opposite of urban - less drivers, less rides and higher average fares."
    "\n",
    "#  2) Drivers and rides are correlated. (More drivers = More rides; Less drivers = Less rides)\n",
    "\n",
    "#  3) By comparing total fares, total rides, and total drivers between different city types, we found that in percentages drivers from suburban and rural areas are actually contributing more towards total fares and total rides than urban areas' drivers. 37.3% of total fares and 31.6% of total rides are from 19.1% of our total drivers, who are from suburban and rural areas. Meanwhile, 62.7% of total fares and 68.4% of total rides are from 80.9% (a higher percentage) of our total drivers from urban areas. \n",
    "#     \n",
    "#     In other words, either (1)increase drivers in suburban and rural areas, (2)increase number of rides in urban areas, to maximize our 80.9% \"drivers-force\", or (3)increase fares - specially in urban areas, will positively boost, our income and possibly revenues if there's no spike in cost from these changes. \n"
   ]
  },
  {
   "cell_type": "code",
   "execution_count": 2,
   "metadata": {},
   "outputs": [],
   "source": [
    "%matplotlib inline\n",
    "# Dependencies and Setup\n",
    "import matplotlib.pyplot as plt\n",
    "import pandas as pd\n",
    "import numpy as np\n",
    "\n",
    "# File to Load (Remember to change these)\n",
    "city_data_to_load = \"data/city_data.csv\"\n",
    "ride_data_to_load = \"data/ride_data.csv\"\n",
    "\n",
    "# Read the City and Ride Data\n",
    "city_data_to_load_df = pd.read_csv(city_data_to_load)\n",
    "ride_data_to_load_df = pd.read_csv(ride_data_to_load)\n"
   ]
  },
  {
   "cell_type": "code",
   "execution_count": 3,
   "metadata": {
    "scrolled": true
   },
   "outputs": [
    {
     "data": {
      "text/html": [
       "<div>\n",
       "<style scoped>\n",
       "    .dataframe tbody tr th:only-of-type {\n",
       "        vertical-align: middle;\n",
       "    }\n",
       "\n",
       "    .dataframe tbody tr th {\n",
       "        vertical-align: top;\n",
       "    }\n",
       "\n",
       "    .dataframe thead th {\n",
       "        text-align: right;\n",
       "    }\n",
       "</style>\n",
       "<table border=\"1\" class=\"dataframe\">\n",
       "  <thead>\n",
       "    <tr style=\"text-align: right;\">\n",
       "      <th></th>\n",
       "      <th>city</th>\n",
       "      <th>driver_count</th>\n",
       "      <th>type</th>\n",
       "      <th>date</th>\n",
       "      <th>fare</th>\n",
       "      <th>ride_id</th>\n",
       "    </tr>\n",
       "  </thead>\n",
       "  <tbody>\n",
       "    <tr>\n",
       "      <th>0</th>\n",
       "      <td>Richardfort</td>\n",
       "      <td>38</td>\n",
       "      <td>Urban</td>\n",
       "      <td>2018-02-24 08:40:38</td>\n",
       "      <td>13.93</td>\n",
       "      <td>5628545007794</td>\n",
       "    </tr>\n",
       "    <tr>\n",
       "      <th>1</th>\n",
       "      <td>Richardfort</td>\n",
       "      <td>38</td>\n",
       "      <td>Urban</td>\n",
       "      <td>2018-02-13 12:46:07</td>\n",
       "      <td>14.00</td>\n",
       "      <td>910050116494</td>\n",
       "    </tr>\n",
       "    <tr>\n",
       "      <th>2</th>\n",
       "      <td>Richardfort</td>\n",
       "      <td>38</td>\n",
       "      <td>Urban</td>\n",
       "      <td>2018-02-16 13:52:19</td>\n",
       "      <td>17.92</td>\n",
       "      <td>820639054416</td>\n",
       "    </tr>\n",
       "    <tr>\n",
       "      <th>3</th>\n",
       "      <td>Richardfort</td>\n",
       "      <td>38</td>\n",
       "      <td>Urban</td>\n",
       "      <td>2018-02-01 20:18:28</td>\n",
       "      <td>10.26</td>\n",
       "      <td>9554935945413</td>\n",
       "    </tr>\n",
       "    <tr>\n",
       "      <th>4</th>\n",
       "      <td>Richardfort</td>\n",
       "      <td>38</td>\n",
       "      <td>Urban</td>\n",
       "      <td>2018-04-17 02:26:37</td>\n",
       "      <td>23.00</td>\n",
       "      <td>720020655850</td>\n",
       "    </tr>\n",
       "  </tbody>\n",
       "</table>\n",
       "</div>"
      ],
      "text/plain": [
       "          city  driver_count   type                 date   fare        ride_id\n",
       "0  Richardfort            38  Urban  2018-02-24 08:40:38  13.93  5628545007794\n",
       "1  Richardfort            38  Urban  2018-02-13 12:46:07  14.00   910050116494\n",
       "2  Richardfort            38  Urban  2018-02-16 13:52:19  17.92   820639054416\n",
       "3  Richardfort            38  Urban  2018-02-01 20:18:28  10.26  9554935945413\n",
       "4  Richardfort            38  Urban  2018-04-17 02:26:37  23.00   720020655850"
      ]
     },
     "execution_count": 3,
     "metadata": {},
     "output_type": "execute_result"
    }
   ],
   "source": [
    "# Combine the data into a single dataset\n",
    "combined_city_ride_df = pd.merge(city_data_to_load_df, ride_data_to_load_df, how=\"outer\", on=\"city\")\n",
    "\n",
    "# Display the data table for preview\n",
    "combined_city_ride_df.head(5)"
   ]
  },
  {
   "cell_type": "code",
   "execution_count": 4,
   "metadata": {},
   "outputs": [
    {
     "data": {
      "text/plain": [
       "array(['Urban', 'Suburban', 'Rural'], dtype=object)"
      ]
     },
     "execution_count": 4,
     "metadata": {},
     "output_type": "execute_result"
    }
   ],
   "source": [
    "combined_city_ride_df[\"type\"].unique()"
   ]
  },
  {
   "cell_type": "markdown",
   "metadata": {},
   "source": [
    "## Bubble Plot of Ride Sharing Data"
   ]
  },
  {
   "cell_type": "code",
   "execution_count": 5,
   "metadata": {},
   "outputs": [],
   "source": [
    "# Obtain the x and y coordinates for each of the three city types\n",
    "city_types = [\"Urban\", \"Suburban\", \"Rural\"]"
   ]
  },
  {
   "cell_type": "code",
   "execution_count": 6,
   "metadata": {},
   "outputs": [
    {
     "data": {
      "text/html": [
       "<div>\n",
       "<style scoped>\n",
       "    .dataframe tbody tr th:only-of-type {\n",
       "        vertical-align: middle;\n",
       "    }\n",
       "\n",
       "    .dataframe tbody tr th {\n",
       "        vertical-align: top;\n",
       "    }\n",
       "\n",
       "    .dataframe thead th {\n",
       "        text-align: right;\n",
       "    }\n",
       "</style>\n",
       "<table border=\"1\" class=\"dataframe\">\n",
       "  <thead>\n",
       "    <tr style=\"text-align: right;\">\n",
       "      <th></th>\n",
       "      <th></th>\n",
       "      <th>Avg. Fare</th>\n",
       "    </tr>\n",
       "    <tr>\n",
       "      <th>type</th>\n",
       "      <th>city</th>\n",
       "      <th></th>\n",
       "    </tr>\n",
       "  </thead>\n",
       "  <tbody>\n",
       "    <tr>\n",
       "      <th rowspan=\"5\" valign=\"top\">Rural</th>\n",
       "      <th>Bradshawfurt</th>\n",
       "      <td>40.06</td>\n",
       "    </tr>\n",
       "    <tr>\n",
       "      <th>Garzaport</th>\n",
       "      <td>24.12</td>\n",
       "    </tr>\n",
       "    <tr>\n",
       "      <th>Harringtonfort</th>\n",
       "      <td>33.47</td>\n",
       "    </tr>\n",
       "    <tr>\n",
       "      <th>Jessicaport</th>\n",
       "      <td>36.01</td>\n",
       "    </tr>\n",
       "    <tr>\n",
       "      <th>Lake Jamie</th>\n",
       "      <td>34.36</td>\n",
       "    </tr>\n",
       "  </tbody>\n",
       "</table>\n",
       "</div>"
      ],
      "text/plain": [
       "                      Avg. Fare\n",
       "type  city                     \n",
       "Rural Bradshawfurt        40.06\n",
       "      Garzaport           24.12\n",
       "      Harringtonfort      33.47\n",
       "      Jessicaport         36.01\n",
       "      Lake Jamie          34.36"
      ]
     },
     "execution_count": 6,
     "metadata": {},
     "output_type": "execute_result"
    }
   ],
   "source": [
    "percity_df = combined_city_ride_df.groupby([\"type\", \"city\"])\n",
    "percity_df.head()\n",
    "\n",
    "# Average Fare ($) Per City\n",
    "avg_fare = percity_df[\"fare\"].mean()\n",
    "avg_fare_df = pd.DataFrame(avg_fare).rename(columns={\"fare\":\"Avg. Fare\"}).round(2)\n",
    "avg_fare_df.head(5)\n"
   ]
  },
  {
   "cell_type": "code",
   "execution_count": 7,
   "metadata": {},
   "outputs": [
    {
     "data": {
      "text/html": [
       "<div>\n",
       "<style scoped>\n",
       "    .dataframe tbody tr th:only-of-type {\n",
       "        vertical-align: middle;\n",
       "    }\n",
       "\n",
       "    .dataframe tbody tr th {\n",
       "        vertical-align: top;\n",
       "    }\n",
       "\n",
       "    .dataframe thead th {\n",
       "        text-align: right;\n",
       "    }\n",
       "</style>\n",
       "<table border=\"1\" class=\"dataframe\">\n",
       "  <thead>\n",
       "    <tr style=\"text-align: right;\">\n",
       "      <th></th>\n",
       "      <th></th>\n",
       "      <th>Total Rides</th>\n",
       "    </tr>\n",
       "    <tr>\n",
       "      <th>type</th>\n",
       "      <th>city</th>\n",
       "      <th></th>\n",
       "    </tr>\n",
       "  </thead>\n",
       "  <tbody>\n",
       "    <tr>\n",
       "      <th rowspan=\"5\" valign=\"top\">Rural</th>\n",
       "      <th>Bradshawfurt</th>\n",
       "      <td>10</td>\n",
       "    </tr>\n",
       "    <tr>\n",
       "      <th>Garzaport</th>\n",
       "      <td>3</td>\n",
       "    </tr>\n",
       "    <tr>\n",
       "      <th>Harringtonfort</th>\n",
       "      <td>6</td>\n",
       "    </tr>\n",
       "    <tr>\n",
       "      <th>Jessicaport</th>\n",
       "      <td>6</td>\n",
       "    </tr>\n",
       "    <tr>\n",
       "      <th>Lake Jamie</th>\n",
       "      <td>6</td>\n",
       "    </tr>\n",
       "  </tbody>\n",
       "</table>\n",
       "</div>"
      ],
      "text/plain": [
       "                      Total Rides\n",
       "type  city                       \n",
       "Rural Bradshawfurt             10\n",
       "      Garzaport                 3\n",
       "      Harringtonfort            6\n",
       "      Jessicaport               6\n",
       "      Lake Jamie                6"
      ]
     },
     "execution_count": 7,
     "metadata": {},
     "output_type": "execute_result"
    }
   ],
   "source": [
    "# Total Rides Per City\n",
    "total_rides = percity_df[\"ride_id\"].count()\n",
    "total_rides_df = pd.DataFrame(total_rides).rename(columns={\"ride_id\":\"Total Rides\"})\n",
    "total_rides_df.head(5)"
   ]
  },
  {
   "cell_type": "code",
   "execution_count": 8,
   "metadata": {},
   "outputs": [
    {
     "data": {
      "text/html": [
       "<div>\n",
       "<style scoped>\n",
       "    .dataframe tbody tr th:only-of-type {\n",
       "        vertical-align: middle;\n",
       "    }\n",
       "\n",
       "    .dataframe tbody tr th {\n",
       "        vertical-align: top;\n",
       "    }\n",
       "\n",
       "    .dataframe thead th {\n",
       "        text-align: right;\n",
       "    }\n",
       "</style>\n",
       "<table border=\"1\" class=\"dataframe\">\n",
       "  <thead>\n",
       "    <tr style=\"text-align: right;\">\n",
       "      <th></th>\n",
       "      <th></th>\n",
       "      <th>Total Drivers</th>\n",
       "    </tr>\n",
       "    <tr>\n",
       "      <th>type</th>\n",
       "      <th>city</th>\n",
       "      <th></th>\n",
       "    </tr>\n",
       "  </thead>\n",
       "  <tbody>\n",
       "    <tr>\n",
       "      <th rowspan=\"5\" valign=\"top\">Rural</th>\n",
       "      <th>Bradshawfurt</th>\n",
       "      <td>7</td>\n",
       "    </tr>\n",
       "    <tr>\n",
       "      <th>Garzaport</th>\n",
       "      <td>7</td>\n",
       "    </tr>\n",
       "    <tr>\n",
       "      <th>Harringtonfort</th>\n",
       "      <td>4</td>\n",
       "    </tr>\n",
       "    <tr>\n",
       "      <th>Jessicaport</th>\n",
       "      <td>1</td>\n",
       "    </tr>\n",
       "    <tr>\n",
       "      <th>Lake Jamie</th>\n",
       "      <td>4</td>\n",
       "    </tr>\n",
       "  </tbody>\n",
       "</table>\n",
       "</div>"
      ],
      "text/plain": [
       "                      Total Drivers\n",
       "type  city                         \n",
       "Rural Bradshawfurt                7\n",
       "      Garzaport                   7\n",
       "      Harringtonfort              4\n",
       "      Jessicaport                 1\n",
       "      Lake Jamie                  4"
      ]
     },
     "execution_count": 8,
     "metadata": {},
     "output_type": "execute_result"
    }
   ],
   "source": [
    "# Total Drivers Per City\n",
    "total_drivers = percity_df[\"driver_count\"].mean().groupby([\"type\", \"city\"]).sum()\n",
    "total_drivers_df = pd.DataFrame(total_drivers).rename(columns={\"driver_count\":\"Total Drivers\"})\n",
    "total_drivers_df.head()"
   ]
  },
  {
   "cell_type": "code",
   "execution_count": 9,
   "metadata": {},
   "outputs": [
    {
     "name": "stdout",
     "output_type": "stream",
     "text": [
      "<class 'pandas.core.frame.DataFrame'>\n",
      "<class 'pandas.core.frame.DataFrame'>\n",
      "<class 'pandas.core.frame.DataFrame'>\n"
     ]
    }
   ],
   "source": [
    "# I was having a hard time to merge dataframes. Finally, I found that I forgot to convert some findings into \n",
    "# dataframes by checking their types. \n",
    "print(type(avg_fare_df))\n",
    "print(type(total_rides_df))\n",
    "print(type(total_drivers_df))"
   ]
  },
  {
   "cell_type": "code",
   "execution_count": 10,
   "metadata": {},
   "outputs": [
    {
     "data": {
      "text/html": [
       "<div>\n",
       "<style scoped>\n",
       "    .dataframe tbody tr th:only-of-type {\n",
       "        vertical-align: middle;\n",
       "    }\n",
       "\n",
       "    .dataframe tbody tr th {\n",
       "        vertical-align: top;\n",
       "    }\n",
       "\n",
       "    .dataframe thead th {\n",
       "        text-align: right;\n",
       "    }\n",
       "</style>\n",
       "<table border=\"1\" class=\"dataframe\">\n",
       "  <thead>\n",
       "    <tr style=\"text-align: right;\">\n",
       "      <th></th>\n",
       "      <th></th>\n",
       "      <th>Avg. Fare</th>\n",
       "      <th>Total Rides</th>\n",
       "      <th>Total Drivers</th>\n",
       "    </tr>\n",
       "    <tr>\n",
       "      <th>type</th>\n",
       "      <th>city</th>\n",
       "      <th></th>\n",
       "      <th></th>\n",
       "      <th></th>\n",
       "    </tr>\n",
       "  </thead>\n",
       "  <tbody>\n",
       "    <tr>\n",
       "      <th rowspan=\"5\" valign=\"top\">Rural</th>\n",
       "      <th>Bradshawfurt</th>\n",
       "      <td>40.06</td>\n",
       "      <td>10</td>\n",
       "      <td>7</td>\n",
       "    </tr>\n",
       "    <tr>\n",
       "      <th>Garzaport</th>\n",
       "      <td>24.12</td>\n",
       "      <td>3</td>\n",
       "      <td>7</td>\n",
       "    </tr>\n",
       "    <tr>\n",
       "      <th>Harringtonfort</th>\n",
       "      <td>33.47</td>\n",
       "      <td>6</td>\n",
       "      <td>4</td>\n",
       "    </tr>\n",
       "    <tr>\n",
       "      <th>Jessicaport</th>\n",
       "      <td>36.01</td>\n",
       "      <td>6</td>\n",
       "      <td>1</td>\n",
       "    </tr>\n",
       "    <tr>\n",
       "      <th>Lake Jamie</th>\n",
       "      <td>34.36</td>\n",
       "      <td>6</td>\n",
       "      <td>4</td>\n",
       "    </tr>\n",
       "  </tbody>\n",
       "</table>\n",
       "</div>"
      ],
      "text/plain": [
       "                      Avg. Fare  Total Rides  Total Drivers\n",
       "type  city                                                 \n",
       "Rural Bradshawfurt        40.06           10              7\n",
       "      Garzaport           24.12            3              7\n",
       "      Harringtonfort      33.47            6              4\n",
       "      Jessicaport         36.01            6              1\n",
       "      Lake Jamie          34.36            6              4"
      ]
     },
     "execution_count": 10,
     "metadata": {},
     "output_type": "execute_result"
    }
   ],
   "source": [
    "# Combined dataframe \n",
    "table_2dfs = pd.merge(avg_fare_df, total_rides_df, on=[\"type\", \"city\"])\n",
    "table_3dfs = pd.merge(table_2dfs, total_drivers_df, on=[\"type\", \"city\"])\n",
    "table_3dfs.head(5)"
   ]
  },
  {
   "cell_type": "code",
   "execution_count": 11,
   "metadata": {},
   "outputs": [],
   "source": [
    "urban = table_3dfs.loc[\"Urban\" , :]\n",
    "suburban = table_3dfs.loc[\"Suburban\" , :]\n",
    "rural = table_3dfs.loc[\"Rural\" , :]"
   ]
  },
  {
   "cell_type": "code",
   "execution_count": 12,
   "metadata": {},
   "outputs": [
    {
     "data": {
      "image/png": "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\n",
      "text/plain": [
       "<Figure size 432x288 with 1 Axes>"
      ]
     },
     "metadata": {},
     "output_type": "display_data"
    }
   ],
   "source": [
    "# Build the scatter plots for each city types\n",
    "x_axis1 = urban[\"Total Rides\"]\n",
    "y_axis1 = urban[\"Avg. Fare\"]\n",
    "x_axis2 = suburban[\"Total Rides\"]\n",
    "y_axis2 = suburban[\"Avg. Fare\"]\n",
    "x_axis3 = rural[\"Total Rides\"]\n",
    "y_axis3 = rural[\"Avg. Fare\"]\n",
    "\n",
    "# Incorporate the other graph properties\n",
    "# Create a legend\n",
    "# Incorporate a text label regarding circle size\n",
    "\n",
    "plt.scatter(x_axis1, y_axis1, marker=\"o\", color=\"lightcoral\", edgecolors=\"black\",\n",
    "            s=total_drivers_df['Total Drivers'], alpha=0.75, linewidth=0.5)\n",
    "\n",
    "plt.scatter(x_axis2, y_axis2, marker=\"o\", color=\"lightskyblue\", edgecolors=\"black\",\n",
    "            s=total_drivers_df['Total Drivers'], alpha=0.75, linewidth=0.5)\n",
    "\n",
    "plt.scatter(x_axis3, y_axis3, marker=\"o\", color=\"gold\", edgecolors=\"black\",\n",
    "            s=total_drivers_df['Total Drivers'], alpha=0.75, linewidth=0.5)\n",
    "\n",
    "plt.title(\"Pyber Ride Sharing Data (2016)\")\n",
    "plt.xlabel(\"Total Number of Rides (Per City)\")\n",
    "plt.ylabel(\"Average Fare ($)\")\n",
    "plt.grid()\n",
    "plt.legend(labels=(\"Urban\", \"Suburban\", \"Rural\"), loc=\"best\", title=\"City Types\")\n",
    "plt.text(43,35,\"Note: Circle size corelates with driver count per city.\", va = \"top\", ha = \"left\", fontsize=12.0)\n",
    "plt.style.use(\"seaborn-bright\")\n",
    "\n",
    "# Save Figure\n",
    "plt.savefig(\"bubble_plot.png\")\n",
    "\n",
    "# Show plot\n",
    "plt.show()"
   ]
  },
  {
   "cell_type": "code",
   "execution_count": null,
   "metadata": {},
   "outputs": [],
   "source": []
  },
  {
   "cell_type": "markdown",
   "metadata": {},
   "source": [
    "## Total Fares by City Type"
   ]
  },
  {
   "cell_type": "code",
   "execution_count": 13,
   "metadata": {},
   "outputs": [
    {
     "data": {
      "image/png": "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\n",
      "text/plain": [
       "<Figure size 432x288 with 1 Axes>"
      ]
     },
     "metadata": {},
     "output_type": "display_data"
    }
   ],
   "source": [
    "# Calculate Type Percents\n",
    "total_fares = combined_city_ride_df.groupby([\"type\"]).sum()[\"fare\"]\n",
    "total_fares\n",
    "# Build Pie Chart\n",
    "labels = [\"Rural\", \"Suburban\", \"Urban\"]\n",
    "sizes = total_fares\n",
    "colors = [\"gold\", \"lightskyblue\", \"lightcoral\"]\n",
    "explode = [0,0,0.1]\n",
    "plt.pie(sizes, explode=explode, labels=labels, colors=colors,\n",
    "        autopct=\"%1.1f%%\", shadow=True, startangle=140)\n",
    "plt.title(\"% of Total Fares by City Type\")\n",
    "plt.axis(\"equal\")\n",
    "\n",
    "# Save Figure\n",
    "plt.savefig(\"fares_pie.png\")\n",
    "\n",
    "# Show Figure\n",
    "plt.show()"
   ]
  },
  {
   "cell_type": "code",
   "execution_count": null,
   "metadata": {},
   "outputs": [],
   "source": []
  },
  {
   "cell_type": "markdown",
   "metadata": {},
   "source": [
    "## Total Rides by City Type"
   ]
  },
  {
   "cell_type": "code",
   "execution_count": 14,
   "metadata": {},
   "outputs": [
    {
     "data": {
      "image/png": "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\n",
      "text/plain": [
       "<Figure size 432x288 with 1 Axes>"
      ]
     },
     "metadata": {},
     "output_type": "display_data"
    }
   ],
   "source": [
    "# Calculate Ride Percents\n",
    "total_riders = combined_city_ride_df.groupby([\"type\"]).count()[\"ride_id\"]\n",
    "total_riders\n",
    "\n",
    "# Build Pie Chart\n",
    "labels = [\"Rural\", \"Suburban\", \"Urban\"]\n",
    "sizes = total_riders\n",
    "colors = [\"gold\", \"lightskyblue\", \"lightcoral\"]\n",
    "explode = [0,0,0.1]\n",
    "plt.pie(sizes, explode=explode, labels=labels, colors=colors,\n",
    "        autopct=\"%1.1f%%\", shadow=True, startangle=140)\n",
    "plt.title(\"% of Total Riders by City Type\")\n",
    "plt.axis(\"equal\")\n",
    "\n",
    "# Save Figure\n",
    "plt.savefig(\"rides_pie.png\")\n",
    "\n",
    "# Show Figure\n",
    "plt.show()"
   ]
  },
  {
   "cell_type": "code",
   "execution_count": null,
   "metadata": {},
   "outputs": [],
   "source": []
  },
  {
   "cell_type": "markdown",
   "metadata": {},
   "source": [
    "## Total Drivers by City Type"
   ]
  },
  {
   "cell_type": "code",
   "execution_count": 15,
   "metadata": {},
   "outputs": [
    {
     "data": {
      "image/png": "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\n",
      "text/plain": [
       "<Figure size 432x288 with 1 Axes>"
      ]
     },
     "metadata": {},
     "output_type": "display_data"
    }
   ],
   "source": [
    "# Calculate Ride Percents\n",
    "total_drivers = total_drivers_df.groupby([\"type\"]).sum()[\"Total Drivers\"]\n",
    "total_drivers\n",
    "\n",
    "# Build Pie Chart\n",
    "labels = [\"Rural\", \"Suburban\", \"Urban\"]\n",
    "sizes = total_drivers\n",
    "colors = [\"gold\", \"lightskyblue\", \"lightcoral\"]\n",
    "explode = [0,0,0.1]\n",
    "plt.pie(sizes, explode=explode, labels=labels, colors=colors,\n",
    "        autopct=\"%1.1f%%\", shadow=True, startangle=140)\n",
    "plt.title(\"% of Total Drivers by City Type\")\n",
    "plt.axis(\"equal\")\n",
    "\n",
    "# Save Figure\n",
    "plt.savefig(\"drivers_pie.png\")\n",
    "\n",
    "# Show Figure\n",
    "plt.show()"
   ]
  },
  {
   "cell_type": "code",
   "execution_count": null,
   "metadata": {
    "scrolled": true
   },
   "outputs": [],
   "source": []
  }
 ],
 "metadata": {
  "anaconda-cloud": {},
  "kernelspec": {
   "display_name": "Python 3",
   "language": "python",
   "name": "python3"
  },
  "language_info": {
   "codemirror_mode": {
    "name": "ipython",
    "version": 3
   },
   "file_extension": ".py",
   "mimetype": "text/x-python",
   "name": "python",
   "nbconvert_exporter": "python",
   "pygments_lexer": "ipython3",
   "version": "3.6.5"
  }
 },
 "nbformat": 4,
 "nbformat_minor": 2
}
